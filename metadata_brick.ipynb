{
 "cells": [
  {
   "attachments": {},
   "cell_type": "markdown",
   "metadata": {},
   "source": [
    "# Adding Brick tags for legacy BMS tags\n",
    "Following script is for finding Brick Ontology Classifications for a Johnson Control BMS."
   ]
  },
  {
   "cell_type": "code",
   "execution_count": null,
   "metadata": {},
   "outputs": [],
   "source": [
    "# !pip install googletrans -y\n",
    "# !pip install googletrans==3.1.0a0 openpyxl"
   ]
  },
  {
   "cell_type": "code",
   "execution_count": 4,
   "metadata": {},
   "outputs": [],
   "source": [
    "import pandas as pd\n",
    "import json\n",
    "# from googletrans import Translator\n",
    "import numpy as np"
   ]
  },
  {
   "cell_type": "code",
   "execution_count": 3,
   "metadata": {},
   "outputs": [],
   "source": [
    "# dest_lang = 'en'\n",
    "\n",
    "# translator = Translator()\n",
    "# translation = translator.translate('Welkom bij slimme gebouwen!', dest=dest_lang)\n",
    "# print(f\"{translation.origin} ({translation.src}) --> {translation.text} ({translation.dest})\")"
   ]
  },
  {
   "attachments": {},
   "cell_type": "markdown",
   "metadata": {},
   "source": [
    "## Selecting data points which match the naming convention"
   ]
  },
  {
   "attachments": {},
   "cell_type": "markdown",
   "metadata": {},
   "source": [
    "The pattern of the naming convention should be understood by this example --> (XX) 202.CV-03D-- \n",
    "\n",
    "Naming convention is divided into four parts as,\n",
    "1. Building Number (XX),\n",
    "2. System Number (202), \n",
    "3. Code (CV), and\n",
    "4. Last_Letter (D). "
   ]
  },
  {
   "attachments": {},
   "cell_type": "markdown",
   "metadata": {},
   "source": [
    "Importing the BMS Object List (extracted from BMS) that comply with the naming convention. At this point we only consider the data points which follow the naming convention, and therefore this imported file is already a processed file by applying a Regular Expression. Pandas or OpenRefine [https://openrefine.org/] can be used to do this pre-processing. Note that the actual Building Number is replaced to adhere with data sharing guideline."
   ]
  },
  {
   "cell_type": "code",
   "execution_count": null,
   "metadata": {},
   "outputs": [],
   "source": [
    "df = pd.read_excel('./inputs/split_ids_with_data_en.xlsx')\n",
    "df = df.drop(['Unnamed: 0', 'Suffix'], axis=1)\n",
    "df = df.rename(columns={'Number': 'Num'})\n",
    "df['Num'] = df[\"Num\"].map(str)\n",
    "df['Num'] = df['Num'].str.zfill(3)\n",
    "\n",
    "df = df.astype({'Last_Letter':'string'})\n",
    "df['Last_Letter']=df['Last_Letter'].str.extract('([a-zA-Z ]+)', expand=False).str.strip()\n",
    "\n",
    "df.head()"
   ]
  },
  {
   "attachments": {},
   "cell_type": "markdown",
   "metadata": {},
   "source": [
    "Now we have three mapping tables, each describing,\n",
    "1. System Number, \n",
    "2. Code, and \n",
    "3. Last_Letter."
   ]
  },
  {
   "attachments": {},
   "cell_type": "markdown",
   "metadata": {},
   "source": [
    "# Applying System Number Code"
   ]
  },
  {
   "cell_type": "code",
   "execution_count": 7,
   "metadata": {},
   "outputs": [
    {
     "data": {
      "text/html": [
       "<div>\n",
       "<style scoped>\n",
       "    .dataframe tbody tr th:only-of-type {\n",
       "        vertical-align: middle;\n",
       "    }\n",
       "\n",
       "    .dataframe tbody tr th {\n",
       "        vertical-align: top;\n",
       "    }\n",
       "\n",
       "    .dataframe thead th {\n",
       "        text-align: right;\n",
       "    }\n",
       "</style>\n",
       "<table border=\"1\" class=\"dataframe\">\n",
       "  <thead>\n",
       "    <tr style=\"text-align: right;\">\n",
       "      <th></th>\n",
       "      <th>Num</th>\n",
       "      <th>Num Description (NL)</th>\n",
       "      <th>Num Description (EN)</th>\n",
       "    </tr>\n",
       "  </thead>\n",
       "  <tbody>\n",
       "    <tr>\n",
       "      <th>0</th>\n",
       "      <td>001</td>\n",
       "      <td>Ketel 1</td>\n",
       "      <td>Boiler 1</td>\n",
       "    </tr>\n",
       "    <tr>\n",
       "      <th>1</th>\n",
       "      <td>002</td>\n",
       "      <td>Ketel 2</td>\n",
       "      <td>Boiler 2</td>\n",
       "    </tr>\n",
       "    <tr>\n",
       "      <th>2</th>\n",
       "      <td>011</td>\n",
       "      <td>Transportsysteem ketel 1</td>\n",
       "      <td>Transport system boiler 1</td>\n",
       "    </tr>\n",
       "    <tr>\n",
       "      <th>3</th>\n",
       "      <td>012</td>\n",
       "      <td>Transportsysteem ketel 2</td>\n",
       "      <td>Transport system boiler 2</td>\n",
       "    </tr>\n",
       "    <tr>\n",
       "      <th>4</th>\n",
       "      <td>021</td>\n",
       "      <td>Warm water groep 1</td>\n",
       "      <td>Hot water group 1</td>\n",
       "    </tr>\n",
       "  </tbody>\n",
       "</table>\n",
       "</div>"
      ],
      "text/plain": [
       "   Num       Num Description (NL)        Num Description (EN)\n",
       "0  001                    Ketel 1                    Boiler 1\n",
       "1  002                    Ketel 2                    Boiler 2\n",
       "2  011   Transportsysteem ketel 1   Transport system boiler 1\n",
       "3  012   Transportsysteem ketel 2   Transport system boiler 2\n",
       "4  021         Warm water groep 1           Hot water group 1"
      ]
     },
     "execution_count": 7,
     "metadata": {},
     "output_type": "execute_result"
    }
   ],
   "source": [
    "df_nums = pd.read_excel('./inputs/codes/numbers_processed.xlsx')\n",
    "df_nums = df_nums.astype({'Num':'string'})\n",
    "df_nums['Num'] = df_nums['Num'].str.zfill(3)\n",
    "df_nums.head()"
   ]
  },
  {
   "attachments": {},
   "cell_type": "markdown",
   "metadata": {},
   "source": [
    "#### Applying the numbers to all numbers from 001-999. \n",
    "Full list is generated from code under '## Tag2: Add tag names based on number_types.txt file'"
   ]
  },
  {
   "cell_type": "code",
   "execution_count": 8,
   "metadata": {},
   "outputs": [
    {
     "data": {
      "text/html": [
       "<div>\n",
       "<style scoped>\n",
       "    .dataframe tbody tr th:only-of-type {\n",
       "        vertical-align: middle;\n",
       "    }\n",
       "\n",
       "    .dataframe tbody tr th {\n",
       "        vertical-align: top;\n",
       "    }\n",
       "\n",
       "    .dataframe thead th {\n",
       "        text-align: right;\n",
       "    }\n",
       "</style>\n",
       "<table border=\"1\" class=\"dataframe\">\n",
       "  <thead>\n",
       "    <tr style=\"text-align: right;\">\n",
       "      <th></th>\n",
       "      <th>Num</th>\n",
       "      <th>Num Class Brick</th>\n",
       "    </tr>\n",
       "  </thead>\n",
       "  <tbody>\n",
       "    <tr>\n",
       "      <th>0</th>\n",
       "      <td>001</td>\n",
       "      <td>Boiler</td>\n",
       "    </tr>\n",
       "    <tr>\n",
       "      <th>1</th>\n",
       "      <td>002</td>\n",
       "      <td>Boiler</td>\n",
       "    </tr>\n",
       "    <tr>\n",
       "      <th>2</th>\n",
       "      <td>003</td>\n",
       "      <td>Boiler</td>\n",
       "    </tr>\n",
       "    <tr>\n",
       "      <th>3</th>\n",
       "      <td>004</td>\n",
       "      <td>Boiler</td>\n",
       "    </tr>\n",
       "    <tr>\n",
       "      <th>4</th>\n",
       "      <td>005</td>\n",
       "      <td>Boiler</td>\n",
       "    </tr>\n",
       "    <tr>\n",
       "      <th>...</th>\n",
       "      <td>...</td>\n",
       "      <td>...</td>\n",
       "    </tr>\n",
       "    <tr>\n",
       "      <th>883</th>\n",
       "      <td>900</td>\n",
       "      <td>Water_Loss_Alarm</td>\n",
       "    </tr>\n",
       "    <tr>\n",
       "      <th>884</th>\n",
       "      <td>901</td>\n",
       "      <td>Water_Loss_Alarm</td>\n",
       "    </tr>\n",
       "    <tr>\n",
       "      <th>885</th>\n",
       "      <td>904</td>\n",
       "      <td>Compressor</td>\n",
       "    </tr>\n",
       "    <tr>\n",
       "      <th>886</th>\n",
       "      <td>905</td>\n",
       "      <td>Server_Room</td>\n",
       "    </tr>\n",
       "    <tr>\n",
       "      <th>887</th>\n",
       "      <td>999</td>\n",
       "      <td>Weather_Station</td>\n",
       "    </tr>\n",
       "  </tbody>\n",
       "</table>\n",
       "<p>888 rows × 2 columns</p>\n",
       "</div>"
      ],
      "text/plain": [
       "     Num   Num Class Brick\n",
       "0    001            Boiler\n",
       "1    002            Boiler\n",
       "2    003            Boiler\n",
       "3    004            Boiler\n",
       "4    005            Boiler\n",
       "..   ...               ...\n",
       "883  900  Water_Loss_Alarm\n",
       "884  901  Water_Loss_Alarm\n",
       "885  904        Compressor\n",
       "886  905       Server_Room\n",
       "887  999   Weather_Station\n",
       "\n",
       "[888 rows x 2 columns]"
      ]
     },
     "execution_count": 8,
     "metadata": {},
     "output_type": "execute_result"
    }
   ],
   "source": [
    "df_num_cls = pd.read_json('./inputs/numbers_en_full_Brick.json',  typ='series')\n",
    "df_num_cls = df_num_cls.to_frame().reset_index()\n",
    "df_num_cls.columns = ['Num', 'Num Class Brick']\n",
    "df_num_cls = df_num_cls.astype({'Num':'string'})\n",
    "df_num_cls['Num'] = df_num_cls['Num'].str.zfill(3)\n",
    "df_num_cls"
   ]
  },
  {
   "cell_type": "code",
   "execution_count": 9,
   "metadata": {},
   "outputs": [],
   "source": [
    "df_full_nums = pd.merge(df_num_cls, df_nums, how='left', on='Num')\n",
    "# df_full_nums.to_excel('./outputs/all_nums.xlsx')\n",
    "# df_full_nums.head()"
   ]
  },
  {
   "attachments": {},
   "cell_type": "markdown",
   "metadata": {},
   "source": [
    "### Using the original df and add matched nums to it"
   ]
  },
  {
   "cell_type": "code",
   "execution_count": 10,
   "metadata": {},
   "outputs": [
    {
     "name": "stdout",
     "output_type": "stream",
     "text": [
      "Length:763\n"
     ]
    }
   ],
   "source": [
    "map_num = pd.merge(df, df_full_nums, how='left', on='Num')\n",
    "map_num.head()\n",
    "print(f'Length:{len(map_num)}')"
   ]
  },
  {
   "attachments": {},
   "cell_type": "markdown",
   "metadata": {},
   "source": [
    "# Applying the middle letter code"
   ]
  },
  {
   "cell_type": "code",
   "execution_count": 11,
   "metadata": {},
   "outputs": [
    {
     "data": {
      "text/html": [
       "<div>\n",
       "<style scoped>\n",
       "    .dataframe tbody tr th:only-of-type {\n",
       "        vertical-align: middle;\n",
       "    }\n",
       "\n",
       "    .dataframe tbody tr th {\n",
       "        vertical-align: top;\n",
       "    }\n",
       "\n",
       "    .dataframe thead th {\n",
       "        text-align: right;\n",
       "    }\n",
       "</style>\n",
       "<table border=\"1\" class=\"dataframe\">\n",
       "  <thead>\n",
       "    <tr style=\"text-align: right;\">\n",
       "      <th></th>\n",
       "      <th>Code</th>\n",
       "      <th>Code Description (NL)</th>\n",
       "      <th>Code Description (EN)</th>\n",
       "      <th>Code Brick Class</th>\n",
       "    </tr>\n",
       "  </thead>\n",
       "  <tbody>\n",
       "    <tr>\n",
       "      <th>0</th>\n",
       "      <td>AKM</td>\n",
       "      <td>Absorptiekoelmachine</td>\n",
       "      <td>Absorption chiller</td>\n",
       "      <td>Absorption_Chiller</td>\n",
       "    </tr>\n",
       "    <tr>\n",
       "      <th>1</th>\n",
       "      <td>BA</td>\n",
       "      <td>Brandmelding</td>\n",
       "      <td>Fire alarm</td>\n",
       "      <td>Fire_Alarm</td>\n",
       "    </tr>\n",
       "    <tr>\n",
       "      <th>2</th>\n",
       "      <td>BG</td>\n",
       "      <td>Breekglaasje</td>\n",
       "      <td>Break glass</td>\n",
       "      <td>Fire_Alarm_Manual_Call_Point</td>\n",
       "    </tr>\n",
       "    <tr>\n",
       "      <th>3</th>\n",
       "      <td>BK</td>\n",
       "      <td>NaN</td>\n",
       "      <td>Firedamper</td>\n",
       "      <td>Damper</td>\n",
       "    </tr>\n",
       "    <tr>\n",
       "      <th>4</th>\n",
       "      <td>BKA</td>\n",
       "      <td>Brandklep afvoer</td>\n",
       "      <td>Fire damper exhaust</td>\n",
       "      <td>Exhaust_Damper</td>\n",
       "    </tr>\n",
       "  </tbody>\n",
       "</table>\n",
       "</div>"
      ],
      "text/plain": [
       "  Code Code Description (NL) Code Description (EN)  \\\n",
       "0  AKM  Absorptiekoelmachine    Absorption chiller   \n",
       "1   BA          Brandmelding            Fire alarm   \n",
       "2   BG          Breekglaasje           Break glass   \n",
       "3   BK                   NaN            Firedamper   \n",
       "4  BKA      Brandklep afvoer   Fire damper exhaust   \n",
       "\n",
       "               Code Brick Class  \n",
       "0            Absorption_Chiller  \n",
       "1                    Fire_Alarm  \n",
       "2  Fire_Alarm_Manual_Call_Point  \n",
       "3                        Damper  \n",
       "4                Exhaust_Damper  "
      ]
     },
     "execution_count": 11,
     "metadata": {},
     "output_type": "execute_result"
    }
   ],
   "source": [
    "df_code = pd.read_excel('./inputs/codes/codes_processed.xlsx')\n",
    "\n",
    "df_code['Code'] = df_code['Code'].map(lambda x: x.strip('- '))\n",
    "# df_code['Code'].str.strip()\n",
    "df_code.head()"
   ]
  },
  {
   "attachments": {},
   "cell_type": "markdown",
   "metadata": {},
   "source": [
    "### Using the df from above step (matched nums) and add matched codes to it"
   ]
  },
  {
   "cell_type": "code",
   "execution_count": 12,
   "metadata": {},
   "outputs": [
    {
     "name": "stdout",
     "output_type": "stream",
     "text": [
      "Length:763\n"
     ]
    }
   ],
   "source": [
    "map_num['Code'] = map_num['Code'].str.lower()\n",
    "df_code['Code'] = df_code['Code'].str.lower()\n",
    "\n",
    "map_num_code = pd.merge(map_num, df_code, how='left', on='Code')\n",
    "map_num_code.head()\n",
    "print(f'Length:{len(map_num_code)}')"
   ]
  },
  {
   "attachments": {},
   "cell_type": "markdown",
   "metadata": {},
   "source": [
    "# Applying the last letter code"
   ]
  },
  {
   "cell_type": "code",
   "execution_count": 13,
   "metadata": {},
   "outputs": [
    {
     "data": {
      "text/html": [
       "<div>\n",
       "<style scoped>\n",
       "    .dataframe tbody tr th:only-of-type {\n",
       "        vertical-align: middle;\n",
       "    }\n",
       "\n",
       "    .dataframe tbody tr th {\n",
       "        vertical-align: top;\n",
       "    }\n",
       "\n",
       "    .dataframe thead th {\n",
       "        text-align: right;\n",
       "    }\n",
       "</style>\n",
       "<table border=\"1\" class=\"dataframe\">\n",
       "  <thead>\n",
       "    <tr style=\"text-align: right;\">\n",
       "      <th></th>\n",
       "      <th>Last_Letter</th>\n",
       "      <th>Last_Letter Description (NL)</th>\n",
       "      <th>Last_Letter Description (EN)</th>\n",
       "      <th>Last_Letter Brick  Class</th>\n",
       "    </tr>\n",
       "  </thead>\n",
       "  <tbody>\n",
       "    <tr>\n",
       "      <th>0</th>\n",
       "      <td>A</td>\n",
       "      <td>Alarm</td>\n",
       "      <td>Alarm</td>\n",
       "      <td>Alarm</td>\n",
       "    </tr>\n",
       "    <tr>\n",
       "      <th>1</th>\n",
       "      <td>AB</td>\n",
       "      <td>brandmelding RK-01 BMC</td>\n",
       "      <td>Fire alarm RK-01 BMC</td>\n",
       "      <td>Fire_Sensor</td>\n",
       "    </tr>\n",
       "    <tr>\n",
       "      <th>2</th>\n",
       "      <td>AI</td>\n",
       "      <td>installatie automaten</td>\n",
       "      <td>Fuse</td>\n",
       "      <td>Switchgear</td>\n",
       "    </tr>\n",
       "    <tr>\n",
       "      <th>3</th>\n",
       "      <td>AN</td>\n",
       "      <td>netwachter</td>\n",
       "      <td>Power phase monitor (alarm)</td>\n",
       "      <td>Power_Loss_Alarm</td>\n",
       "    </tr>\n",
       "    <tr>\n",
       "      <th>4</th>\n",
       "      <td>AS</td>\n",
       "      <td>sabotage</td>\n",
       "      <td>sabotage</td>\n",
       "      <td>NaN</td>\n",
       "    </tr>\n",
       "  </tbody>\n",
       "</table>\n",
       "</div>"
      ],
      "text/plain": [
       "  Last_Letter Last_Letter Description (NL) Last_Letter Description (EN)  \\\n",
       "0           A                        Alarm                        Alarm   \n",
       "1          AB       brandmelding RK-01 BMC         Fire alarm RK-01 BMC   \n",
       "2          AI        installatie automaten                         Fuse   \n",
       "3          AN                   netwachter  Power phase monitor (alarm)   \n",
       "4          AS                     sabotage                     sabotage   \n",
       "\n",
       "  Last_Letter Brick  Class  \n",
       "0                    Alarm  \n",
       "1              Fire_Sensor  \n",
       "2               Switchgear  \n",
       "3         Power_Loss_Alarm  \n",
       "4                      NaN  "
      ]
     },
     "execution_count": 13,
     "metadata": {},
     "output_type": "execute_result"
    }
   ],
   "source": [
    "df_last_letter = pd.read_excel('./inputs/codes/last_letter_processed.xlsx')\n",
    "df_last_letter['Last_Letter'] = df_last_letter['Last_Letter'].map(lambda x: x.strip('- '))\n",
    "df_last_letter['Last_Letter'].str.strip()\n",
    "df_last_letter.head()"
   ]
  },
  {
   "attachments": {},
   "cell_type": "markdown",
   "metadata": {},
   "source": [
    "### Using the df from above step (matched nums and codes) and add matched last letters to it.\n",
    "This is going to be the final output"
   ]
  },
  {
   "cell_type": "code",
   "execution_count": 14,
   "metadata": {},
   "outputs": [
    {
     "name": "stdout",
     "output_type": "stream",
     "text": [
      "Length:766\n"
     ]
    }
   ],
   "source": [
    "df_last_letter['Last_Letter'] = df_last_letter['Last_Letter'].str.lower()\n",
    "map_num_code['Last_Letter'] = map_num_code['Last_Letter'].str.lower()\n",
    "\n",
    "map_num_code_lletter = pd.merge(map_num_code, df_last_letter, how='left', on='Last_Letter')\n",
    "map_num_code_lletter.head()\n",
    "print(f'Length:{len(map_num_code_lletter)}')"
   ]
  },
  {
   "cell_type": "code",
   "execution_count": 15,
   "metadata": {},
   "outputs": [
    {
     "data": {
      "text/plain": [
       "Index(['Item Reference', 'Object ID', 'Object Type', 'Name', 'Num', 'Code',\n",
       "       'Last_Letter', 'Description (NL)', 'Description (EN)',\n",
       "       'Num Class Brick', 'Num Description (NL)', 'Num Description (EN)',\n",
       "       'Code Description (NL)', 'Code Description (EN)', 'Code Brick Class',\n",
       "       'Last_Letter Description (NL)', 'Last_Letter Description (EN)',\n",
       "       'Last_Letter Brick  Class'],\n",
       "      dtype='object')"
      ]
     },
     "execution_count": 15,
     "metadata": {},
     "output_type": "execute_result"
    }
   ],
   "source": [
    "map_num_code_lletter.columns"
   ]
  },
  {
   "cell_type": "code",
   "execution_count": 328,
   "metadata": {},
   "outputs": [],
   "source": [
    "# map_num_code_lletter = map_num_code_lletter[['Item Reference', 'Object ID', 'Object Type', 'Name', 'Num', 'Code',\n",
    "#        'Description (EN)',\n",
    "#        'Num Class Brick', 'Num Description (EN)',\n",
    "#        'Num Brick', 'Code Description (EN)',\n",
    "#        'Code Brick Class', 'Last_Letter Description (EN)',\n",
    "#        'Last_Letter Brick  Class']]"
   ]
  },
  {
   "cell_type": "code",
   "execution_count": null,
   "metadata": {},
   "outputs": [],
   "source": [
    "map_num_code_lletter.head()"
   ]
  },
  {
   "cell_type": "code",
   "execution_count": 37,
   "metadata": {},
   "outputs": [],
   "source": [
    "map_num_code_lletter.to_excel('./outputs/brick-mappings.xlsx')"
   ]
  },
  {
   "cell_type": "code",
   "execution_count": 331,
   "metadata": {},
   "outputs": [],
   "source": [
    "map_num_code_lletter.columns\n",
    "map_num_code_lletter = map_num_code_lletter[['Item Reference', 'Object ID', 'Object Type', 'Name', 'Num', 'Code',\n",
    "       'Last_Letter', 'Num Class Brick','Code Brick Class','Last_Letter Brick  Class']]"
   ]
  },
  {
   "attachments": {},
   "cell_type": "markdown",
   "metadata": {},
   "source": [
    "Group by Equipment"
   ]
  },
  {
   "cell_type": "code",
   "execution_count": 332,
   "metadata": {},
   "outputs": [],
   "source": [
    "# grouped = map_num_code_lletter.groupby('Num Class Brick')\n",
    "\n",
    "# for name, group in grouped:\n",
    "#     filename = f\"./outputs/groups/{name}.xlsx\"\n",
    "#     group.to_excel(filename, index=False)\n"
   ]
  }
 ],
 "metadata": {
  "kernelspec": {
   "display_name": "Python 3.10.7 64-bit",
   "language": "python",
   "name": "python3"
  },
  "language_info": {
   "codemirror_mode": {
    "name": "ipython",
    "version": 3
   },
   "file_extension": ".py",
   "mimetype": "text/x-python",
   "name": "python",
   "nbconvert_exporter": "python",
   "pygments_lexer": "ipython3",
   "version": "3.11.2"
  },
  "orig_nbformat": 4,
  "vscode": {
   "interpreter": {
    "hash": "369f2c481f4da34e4445cda3fffd2e751bd1c4d706f27375911949ba6bb62e1c"
   }
  }
 },
 "nbformat": 4,
 "nbformat_minor": 2
}
