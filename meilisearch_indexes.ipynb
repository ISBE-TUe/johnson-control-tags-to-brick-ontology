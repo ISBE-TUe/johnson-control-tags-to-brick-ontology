{
 "cells": [
  {
   "attachments": {},
   "cell_type": "markdown",
   "metadata": {},
   "source": [
    "# This script is for populating the search engine with the Brick Ontology Classifications (Class Name and Definition)"
   ]
  },
  {
   "cell_type": "code",
   "execution_count": null,
   "metadata": {},
   "outputs": [],
   "source": [
    "! pip install meilisearch\n",
    "! pip install pandas"
   ]
  },
  {
   "cell_type": "code",
   "execution_count": 5,
   "metadata": {},
   "outputs": [],
   "source": [
    "import meilisearch\n",
    "import json\n",
    "import pandas as pd"
   ]
  },
  {
   "cell_type": "code",
   "execution_count": null,
   "metadata": {},
   "outputs": [],
   "source": [
    "client = meilisearch.Client('http://localhost:7700')"
   ]
  },
  {
   "attachments": {},
   "cell_type": "markdown",
   "metadata": {},
   "source": [
    "Three Documents are made,\n",
    "i) brick class name only\n",
    "ii) brick class name + definition.\n",
    "\n",
    "These are retrieved from the ontology by running a SPARQL query over the ontology."
   ]
  },
  {
   "attachments": {},
   "cell_type": "markdown",
   "metadata": {},
   "source": [
    "## i) brick class name only"
   ]
  },
  {
   "cell_type": "code",
   "execution_count": 3,
   "metadata": {},
   "outputs": [],
   "source": [
    "json_file = open('./meilisearch/query-result-brick-class.srj', encoding='utf-8')\n",
    "json_obj = json.load(json_file)\n",
    "json_obj = json_obj['results']['bindings']\n",
    "\n",
    "meilis_arr = []\n",
    "\n",
    "for i in range(len(json_obj)):\n",
    "    meilis_obj = {}\n",
    "    meilis_obj['id'] = i\n",
    "    meilis_obj['brick_class'] = json_obj[i]['brick_class']['value']\n",
    "    if 'Definition' in json_obj[i]:\n",
    "        meilis_obj['definition'] = json_obj[i]['Definition']['value']\n",
    "    else:\n",
    "        pass\n",
    "    meilis_arr.append(meilis_obj)\n",
    "    i+=1\n",
    "\n",
    "# Serializing json\n",
    "json_object = json.dumps(meilis_arr, indent=4)\n",
    " \n",
    "# Writing to sample.json\n",
    "with open(\"meilisearch/query-result-brick-class.json\", \"w\") as outfile:\n",
    "    outfile.write(json_object)"
   ]
  },
  {
   "cell_type": "code",
   "execution_count": 23,
   "metadata": {},
   "outputs": [],
   "source": [
    "\n",
    "# client.delete_index('brick_classes_and_definitions')\n",
    "# client.index('brick_classes').delete_all_documents()"
   ]
  },
  {
   "cell_type": "code",
   "execution_count": 6,
   "metadata": {},
   "outputs": [
    {
     "data": {
      "text/plain": [
       "TaskInfo(task_uid=36, index_uid='brick_classes', status='enqueued', type='documentAdditionOrUpdate', enqueued_at='2023-01-26T03:45:53.509323858Z')"
      ]
     },
     "execution_count": 6,
     "metadata": {},
     "output_type": "execute_result"
    }
   ],
   "source": [
    "json_file = open('./meilisearch/query-result-brick-class.json')\n",
    "brick_classes = json.load(json_file)\n",
    "client.index('brick_classes').add_documents(brick_classes)"
   ]
  },
  {
   "cell_type": "code",
   "execution_count": 7,
   "metadata": {},
   "outputs": [],
   "source": [
    "# client.get_task(23)"
   ]
  },
  {
   "attachments": {},
   "cell_type": "markdown",
   "metadata": {},
   "source": [
    "## ii) brick class name + definition"
   ]
  },
  {
   "cell_type": "code",
   "execution_count": 8,
   "metadata": {},
   "outputs": [],
   "source": [
    "json_file = open('./meilisearch/query-result-brick-class-definition.srj', encoding='utf-8')\n",
    "json_obj = json.load(json_file)\n",
    "json_obj = json_obj['results']['bindings']\n",
    "\n",
    "meilis_arr = []\n",
    "\n",
    "for i in range(len(json_obj)):\n",
    "    meilis_obj = {}\n",
    "    meilis_obj['id'] = i\n",
    "    meilis_obj['brick_class'] = json_obj[i]['brick_class']['value']\n",
    "    if 'Definition' in json_obj[i]:\n",
    "        meilis_obj['definition'] = json_obj[i]['Definition']['value']\n",
    "    else:\n",
    "        pass\n",
    "    meilis_arr.append(meilis_obj)\n",
    "    i+=1\n",
    "\n",
    "# Serializing json\n",
    "json_object = json.dumps(meilis_arr, indent=4)\n",
    " \n",
    "# Writing to sample.json\n",
    "with open(\"meilisearch/query-result-brick-class-definition.json\", \"w\") as outfile:\n",
    "    outfile.write(json_object)"
   ]
  },
  {
   "cell_type": "code",
   "execution_count": 9,
   "metadata": {},
   "outputs": [
    {
     "data": {
      "text/plain": [
       "TaskInfo(task_uid=37, index_uid='brick_classes_and_definitions', status='enqueued', type='documentAdditionOrUpdate', enqueued_at='2023-01-26T03:45:53.802723988Z')"
      ]
     },
     "execution_count": 9,
     "metadata": {},
     "output_type": "execute_result"
    }
   ],
   "source": [
    "json_file = open('./meilisearch/query-result-brick-class-definition.json')\n",
    "brick_classes_and_definitions = json.load(json_file)\n",
    "client.index('brick_classes_and_definitions').add_documents(brick_classes_and_definitions)"
   ]
  },
  {
   "attachments": {},
   "cell_type": "markdown",
   "metadata": {},
   "source": [
    "## iii) Brick Classes and Tags"
   ]
  },
  {
   "cell_type": "code",
   "execution_count": 32,
   "metadata": {},
   "outputs": [],
   "source": [
    "json_file = open('./meilisearch/query-result-brick-class-tags.srj', encoding='utf-8')\n",
    "json_obj = json.load(json_file)\n",
    "json_obj = json_obj['results']['bindings']\n",
    "\n",
    "meilis_arr = []\n",
    "\n",
    "for i in range(len(json_obj)):\n",
    "    meilis_obj = {}\n",
    "    meilis_obj['id'] = i\n",
    "    meilis_obj['brick_class'] = json_obj[i]['brick_class']['value']\n",
    "    if 'Tags' in json_obj[i]:\n",
    "        meilis_obj['Tags'] = json_obj[i]['Tags']['value']\n",
    "    else:\n",
    "        pass\n",
    "    meilis_arr.append(meilis_obj)\n",
    "    i+=1\n",
    "\n",
    "# Serializing json\n",
    "json_object = json.dumps(meilis_arr, indent=4)\n",
    " \n",
    "# Writing to sample.json\n",
    "with open(\"meilisearch/query-result-brick-class-tags.json\", \"w\") as outfile:\n",
    "    outfile.write(json_object)"
   ]
  },
  {
   "cell_type": "code",
   "execution_count": 8,
   "metadata": {},
   "outputs": [
    {
     "data": {
      "text/plain": [
       "TaskInfo(task_uid=39, index_uid='brick_classes_and_tags', status='enqueued', type='documentAdditionOrUpdate', enqueued_at='2023-01-31T09:32:31.895091415Z')"
      ]
     },
     "execution_count": 8,
     "metadata": {},
     "output_type": "execute_result"
    }
   ],
   "source": [
    "client = meilisearch.Client('http://localhost:7700')\n",
    "\n",
    "json_file = open('./meilisearch/query-result-brick-class-tags.json')\n",
    "brick_classes_and_tags = json.load(json_file)\n",
    "client.index('brick_classes_and_tags').add_documents(brick_classes_and_tags)"
   ]
  },
  {
   "attachments": {},
   "cell_type": "markdown",
   "metadata": {},
   "source": [
    "#### Example search for 'temperature'."
   ]
  },
  {
   "cell_type": "code",
   "execution_count": 24,
   "metadata": {},
   "outputs": [
    {
     "data": {
      "text/plain": [
       "{'hits': [{'id': 2437,\n",
       "   'brick_class': 'https://brickschema.org/schema/Brick#Temperature'},\n",
       "  {'id': 430,\n",
       "   'brick_class': 'https://brickschema.org/schema/Brick#Temperature_Parameter'},\n",
       "  {'id': 681,\n",
       "   'brick_class': 'https://brickschema.org/schema/Brick#Temperature_Sensor'}],\n",
       " 'query': 'temperature',\n",
       " 'processingTimeMs': 27,\n",
       " 'limit': 3,\n",
       " 'offset': 0,\n",
       " 'estimatedTotalHits': 13}"
      ]
     },
     "execution_count": 24,
     "metadata": {},
     "output_type": "execute_result"
    }
   ],
   "source": [
    "res = client.index('brick_classes').search('temperature', {\"limit\": 3})\n",
    "res"
   ]
  }
 ],
 "metadata": {
  "kernelspec": {
   "display_name": "venv",
   "language": "python",
   "name": "python3"
  },
  "language_info": {
   "codemirror_mode": {
    "name": "ipython",
    "version": 3
   },
   "file_extension": ".py",
   "mimetype": "text/x-python",
   "name": "python",
   "nbconvert_exporter": "python",
   "pygments_lexer": "ipython3",
   "version": "3.11.2"
  },
  "orig_nbformat": 4,
  "vscode": {
   "interpreter": {
    "hash": "fc33582ead91989285fc075b62ec60b4f7795d1a9dbea80ade31a0ceaef6d8f4"
   }
  }
 },
 "nbformat": 4,
 "nbformat_minor": 2
}
